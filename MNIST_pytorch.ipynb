{
 "cells": [
  {
   "cell_type": "markdown",
   "metadata": {},
   "source": [
    "# Handwritten Digit Classification in Pytorch\n",
    "\n",
    "The goal here is to classify hand-drawn images of the numbers 0-9 and build and train a neural network to recognize and predict the correct label for the digit displayed. The dataset we will be using is called the MNIST dataset, and it is a classic in the machine learning community. This dataset is made up of images of handwritten digits, 28x28 pixels in size. Here are some examples of the digits included in the dataset:\n",
    "![title](MNIST.png)"
   ]
  },
  {
   "cell_type": "markdown",
   "metadata": {},
   "source": [
    "In this notebook our main focus is to use different utility packages provided within PyTorch (nn, autograd, optim, torchvision, torchtext, etc.) to build and train neural networks. "
   ]
  },
  {
   "cell_type": "markdown",
   "metadata": {},
   "source": [
    "## Step1: Import MNIST Dataset  and Preprocess it"
   ]
  },
  {
   "cell_type": "code",
   "execution_count": 1,
   "metadata": {},
   "outputs": [],
   "source": [
    "from torchvision import transforms\n",
    "from torchvision.datasets import MNIST\n",
    "import torch.nn.functional as F"
   ]
  },
  {
   "cell_type": "code",
   "execution_count": 2,
   "metadata": {},
   "outputs": [],
   "source": [
    "### Data Preprocessing: We need to transform the raw dataset into tensors and normalize them in a fixed range.\n",
    "### The torchvision package provides a utility called transforms which can be used to combine different \n",
    "### transformations together.\n",
    "\n",
    "transform_tasks = transforms.Compose([\n",
    "    transforms.ToTensor(),\n",
    "    transforms.Normalize((0.5, 0.5, 0.5), (0.5, 0.5, 0.5))\n",
    "    ])"
   ]
  },
  {
   "cell_type": "markdown",
   "metadata": {},
   "source": [
    "The first transformation converts the raw data into tensor variables and the second transformation performs normalization using the below operation:\n",
    "\n",
    "x_normalized = x-mean / std\n",
    "\n",
    "The values 0.5 and 0.5 represent the mean and standard deviation for 3 channels: red, green, and blue."
   ]
  },
  {
   "cell_type": "code",
   "execution_count": 3,
   "metadata": {},
   "outputs": [],
   "source": [
    "#--------- Load MNIST Dataset and apply transformations ---------#\n",
    "mnist = MNIST(\"data\", download=True, train=True, transform=transform_tasks)"
   ]
  },
  {
   "cell_type": "markdown",
   "metadata": {},
   "source": [
    "### DataLoader: \n",
    "Iterators which provide the ability to batch, shuffle and load the data in parallel using multiprocessing workers. For the purpose of evaluating our model, we will partition our data into training and validation sets."
   ]
  },
  {
   "cell_type": "code",
   "execution_count": 4,
   "metadata": {},
   "outputs": [],
   "source": [
    "from torch.utils.data import DataLoader\n",
    "from torch.utils.data.sampler import SubsetRandomSampler"
   ]
  },
  {
   "cell_type": "code",
   "execution_count": 5,
   "metadata": {},
   "outputs": [],
   "source": [
    "#--------- create training and validation split ---------#\n",
    "split = int(0.8 * len(mnist))\n",
    "index_list = list(range(len(mnist)))\n",
    "train_idx, valid_idx = index_list[:split], index_list[split:]"
   ]
  },
  {
   "cell_type": "code",
   "execution_count": 6,
   "metadata": {},
   "outputs": [],
   "source": [
    "#--------- create sampler objects using SubsetRandomSampler ---------#\n",
    "tr_sampler = SubsetRandomSampler(train_idx)\n",
    "val_sampler = SubsetRandomSampler(valid_idx)"
   ]
  },
  {
   "cell_type": "code",
   "execution_count": 7,
   "metadata": {},
   "outputs": [],
   "source": [
    "#--------- create iterator objects for train and valid datasets ---------#\n",
    "trainloader = DataLoader(mnist, batch_size=256, sampler=tr_sampler)\n",
    "validloader = DataLoader(mnist, batch_size=256, sampler=val_sampler)"
   ]
  },
  {
   "cell_type": "markdown",
   "metadata": {},
   "source": [
    "## Step2: Defining the Neural Network\n",
    "The architecture of the neural network refers to elements such as the number of layers in the network, the number of units in each layer, and how the units are connected between layers. In the inline below, add the number of units per layer in global variables. \n"
   ]
  },
  {
   "cell_type": "code",
   "execution_count": 8,
   "metadata": {},
   "outputs": [],
   "source": [
    "import torch.nn.functional as F\n",
    "import torch.nn as nn\n",
    "\n",
    "class Model(nn.Module):\n",
    "    def __init__(self):\n",
    "        super().__init__()\n",
    "        self.hidden1 = nn.Linear(784, 512)\n",
    "        self.hidden2 = nn.Linear(512, 256)\n",
    "        self.hidden3 = nn.Linear(256, 128)\n",
    "        self.output = nn.Linear(128, 10)\n",
    "  \n",
    "    def forward(self, x):\n",
    "        x = self.hidden1(x)\n",
    "        x = F.sigmoid(x)\n",
    "        x = self.hidden2(x)\n",
    "        x = F.sigmoid(x)\n",
    "        x = self.hidden3(x)\n",
    "        x = F.sigmoid(x)\n",
    "        x = self.output(x)\n",
    "        return x\n",
    "\n"
   ]
  },
  {
   "cell_type": "code",
   "execution_count": 9,
   "metadata": {},
   "outputs": [],
   "source": [
    "model = Model()"
   ]
  },
  {
   "cell_type": "markdown",
   "metadata": {},
   "source": [
    "### Loss Function and Optimizer\n",
    "Define the loss function and the optimizer using the nn and optim package:"
   ]
  },
  {
   "cell_type": "code",
   "execution_count": 10,
   "metadata": {},
   "outputs": [],
   "source": [
    "from torch import optim"
   ]
  },
  {
   "cell_type": "code",
   "execution_count": 11,
   "metadata": {},
   "outputs": [],
   "source": [
    "loss_function = nn.CrossEntropyLoss()\n",
    "optimizer = optim.SGD(model.parameters(), lr=0.01, weight_decay= 1e-6, momentum = 0.9, nesterov = True)"
   ]
  },
  {
   "cell_type": "markdown",
   "metadata": {},
   "source": [
    "## Step3: Training and Testing"
   ]
  },
  {
   "cell_type": "code",
   "execution_count": 12,
   "metadata": {},
   "outputs": [
    {
     "name": "stderr",
     "output_type": "stream",
     "text": [
      "/home/radhika/internship/myvenv/lib/python3.6/site-packages/torch/nn/functional.py:1332: UserWarning: nn.functional.sigmoid is deprecated. Use torch.sigmoid instead.\n",
      "  warnings.warn(\"nn.functional.sigmoid is deprecated. Use torch.sigmoid instead.\")\n"
     ]
    },
    {
     "name": "stdout",
     "output_type": "stream",
     "text": [
      "Epoch: 1 Training Loss:  2.3044318531421903 Valid Loss:  2.304186521692479\n",
      "Epoch: 2 Training Loss:  2.301375928077292 Valid Loss:  2.3024412571115698\n",
      "Epoch: 3 Training Loss:  2.2999199996603297 Valid Loss:  2.2987084693097053\n",
      "Epoch: 4 Training Loss:  2.2972526220565146 Valid Loss:  2.295880855397975\n",
      "Epoch: 5 Training Loss:  2.2931166709737574 Valid Loss:  2.2935028786354876\n",
      "Epoch: 6 Training Loss:  2.2835893643663283 Valid Loss:  2.2753405012982957\n",
      "Epoch: 7 Training Loss:  2.252014212151791 Valid Loss:  2.2138985623704626\n",
      "Epoch: 8 Training Loss:  2.0744921825033553 Valid Loss:  1.8851163919935836\n",
      "Epoch: 9 Training Loss:  1.6785669117531878 Valid Loss:  1.434272804158799\n",
      "Epoch: 10 Training Loss:  1.264298584867031 Valid Loss:  1.0891657737975424\n",
      "Epoch: 11 Training Loss:  0.990102784113681 Valid Loss:  0.8629197858749552\n",
      "Epoch: 12 Training Loss:  0.8340823767667122 Valid Loss:  0.7640079830555205\n",
      "Epoch: 13 Training Loss:  0.7575869981912856 Valid Loss:  0.6977708885010253\n",
      "Epoch: 14 Training Loss:  0.7033548120488512 Valid Loss:  0.6526355350271185\n",
      "Epoch: 15 Training Loss:  0.6597886941534408 Valid Loss:  0.611637218835506\n",
      "Epoch: 16 Training Loss:  0.6200806360612524 Valid Loss:  0.5767587410642746\n",
      "Epoch: 17 Training Loss:  0.583527572770068 Valid Loss:  0.539173591010114\n",
      "Epoch: 18 Training Loss:  0.5491307138445529 Valid Loss:  0.5087289765794226\n",
      "Epoch: 19 Training Loss:  0.5169374508426544 Valid Loss:  0.48007848478378135\n",
      "Epoch: 20 Training Loss:  0.48901274816152895 Valid Loss:  0.45596918146660986\n",
      "Epoch: 21 Training Loss:  0.4653388834063043 Valid Loss:  0.4375602983413859\n",
      "Epoch: 22 Training Loss:  0.4428986044640237 Valid Loss:  0.41459577895225364\n",
      "Epoch: 23 Training Loss:  0.4233862748171421 Valid Loss:  0.40168016641697984\n",
      "Epoch: 24 Training Loss:  0.40533641971489215 Valid Loss:  0.38482011347375017\n"
     ]
    }
   ],
   "source": [
    "import numpy as np\n",
    "\n",
    "for epoch in range(1, 25): ## Run the model for 10 epochs\n",
    "    train_loss, valid_loss = [], []\n",
    "    \n",
    "    ## training part \n",
    "    model.train()\n",
    "    for data, target in trainloader:\n",
    "        \n",
    "        data = data.reshape(-1,28*28)\n",
    "        optimizer.zero_grad()\n",
    "        \n",
    "         ## 1. forward propagation\n",
    "        output = model(data)\n",
    "        \n",
    "        ## 2. loss calculation\n",
    "        loss = loss_function(output, target)\n",
    "        \n",
    "        ## 3. backward propagation\n",
    "        loss.backward()\n",
    "        \n",
    "        ## 4. weight optimization\n",
    "        optimizer.step()\n",
    "        \n",
    "        train_loss.append(loss.item())\n",
    "        \n",
    "    ## evaluation part \n",
    "    model.eval()\n",
    "    for data, target in validloader:\n",
    "        \n",
    "        data = data.reshape(-1,28*28)\n",
    "        output = model(data)\n",
    "        loss = loss_function(output, target)\n",
    "        valid_loss.append(loss.item())\n",
    "        \n",
    "    print (\"Epoch:\", epoch, \"Training Loss: \", np.mean(train_loss), \"Valid Loss: \", np.mean(valid_loss))\n",
    "        \n"
   ]
  },
  {
   "cell_type": "markdown",
   "metadata": {},
   "source": [
    "## Prediction on test data"
   ]
  },
  {
   "cell_type": "code",
   "execution_count": 17,
   "metadata": {},
   "outputs": [
    {
     "name": "stderr",
     "output_type": "stream",
     "text": [
      "/home/radhika/internship/myvenv/lib/python3.6/site-packages/torch/nn/functional.py:1332: UserWarning: nn.functional.sigmoid is deprecated. Use torch.sigmoid instead.\n",
      "  warnings.warn(\"nn.functional.sigmoid is deprecated. Use torch.sigmoid instead.\")\n"
     ]
    }
   ],
   "source": [
    "dataiter = iter(validloader)\n",
    "data, labels = dataiter.next()\n",
    "images = data\n",
    "data = data.reshape(-1,28*28)\n",
    "output = model(data)"
   ]
  },
  {
   "cell_type": "code",
   "execution_count": 18,
   "metadata": {},
   "outputs": [],
   "source": [
    "import torch \n",
    "_, preds_tensor = torch.max(output, 1)\n",
    "preds = np.squeeze(preds_tensor.numpy())"
   ]
  },
  {
   "cell_type": "code",
   "execution_count": 19,
   "metadata": {},
   "outputs": [
    {
     "name": "stdout",
     "output_type": "stream",
     "text": [
      "0.84375\n"
     ]
    }
   ],
   "source": [
    "#--------- Test Accuracy ---------#\n",
    "from sklearn.metrics import accuracy_score\n",
    "print(accuracy_score(labels, preds))"
   ]
  },
  {
   "cell_type": "code",
   "execution_count": 20,
   "metadata": {},
   "outputs": [
    {
     "data": {
      "image/png": "[encoded data removed]",
      "text/plain": [
       "<Figure size 432x288 with 1 Axes>"
      ]
     },
     "metadata": {
      "needs_background": "light"
     },
     "output_type": "display_data"
    },
    {
     "name": "stdout",
     "output_type": "stream",
     "text": [
      "Actual: tensor(4)\n",
      "Predicted: 4\n"
     ]
    },
    {
     "data": {
      "image/png": "[encoded data removed]",
      "text/plain": [
       "<Figure size 432x288 with 1 Axes>"
      ]
     },
     "metadata": {
      "needs_background": "light"
     },
     "output_type": "display_data"
    },
    {
     "name": "stdout",
     "output_type": "stream",
     "text": [
      "Actual: tensor(5)\n",
      "Predicted: 5\n"
     ]
    },
    {
     "data": {
      "image/png": "[encoded data removed]",
      "text/plain": [
       "<Figure size 432x288 with 1 Axes>"
      ]
     },
     "metadata": {
      "needs_background": "light"
     },
     "output_type": "display_data"
    },
    {
     "name": "stdout",
     "output_type": "stream",
     "text": [
      "Actual: tensor(1)\n",
      "Predicted: 1\n"
     ]
    },
    {
     "data": {
      "image/png": "[encoded data removed]",
      "text/plain": [
       "<Figure size 432x288 with 1 Axes>"
      ]
     },
     "metadata": {
      "needs_background": "light"
     },
     "output_type": "display_data"
    },
    {
     "name": "stdout",
     "output_type": "stream",
     "text": [
      "Actual: tensor(2)\n",
      "Predicted: 5\n"
     ]
    },
    {
     "data": {
      "image/png": "[encoded data removed]",
      "text/plain": [
       "<Figure size 432x288 with 1 Axes>"
      ]
     },
     "metadata": {
      "needs_background": "light"
     },
     "output_type": "display_data"
    },
    {
     "name": "stdout",
     "output_type": "stream",
     "text": [
      "Actual: tensor(1)\n",
      "Predicted: 1\n"
     ]
    },
    {
     "data": {
      "image/png": "[encoded data removed]",
      "text/plain": [
       "<Figure size 432x288 with 1 Axes>"
      ]
     },
     "metadata": {
      "needs_background": "light"
     },
     "output_type": "display_data"
    },
    {
     "name": "stdout",
     "output_type": "stream",
     "text": [
      "Actual: tensor(6)\n",
      "Predicted: 6\n"
     ]
    },
    {
     "data": {
      "image/png": "[encoded data removed]",
      "text/plain": [
       "<Figure size 432x288 with 1 Axes>"
      ]
     },
     "metadata": {
      "needs_background": "light"
     },
     "output_type": "display_data"
    },
    {
     "name": "stdout",
     "output_type": "stream",
     "text": [
      "Actual: tensor(9)\n",
      "Predicted: 9\n"
     ]
    },
    {
     "data": {
      "image/png": "[encoded data removed]",
      "text/plain": [
       "<Figure size 432x288 with 1 Axes>"
      ]
     },
     "metadata": {
      "needs_background": "light"
     },
     "output_type": "display_data"
    },
    {
     "name": "stdout",
     "output_type": "stream",
     "text": [
      "Actual: tensor(1)\n",
      "Predicted: 1\n"
     ]
    },
    {
     "data": {
      "image/png": "[encoded data removed]",
      "text/plain": [
       "<Figure size 432x288 with 1 Axes>"
      ]
     },
     "metadata": {
      "needs_background": "light"
     },
     "output_type": "display_data"
    },
    {
     "name": "stdout",
     "output_type": "stream",
     "text": [
      "Actual: tensor(5)\n",
      "Predicted: 5\n"
     ]
    },
    {
     "data": {
      "image/png": "[encoded data removed]",
      "text/plain": [
       "<Figure size 432x288 with 1 Axes>"
      ]
     },
     "metadata": {
      "needs_background": "light"
     },
     "output_type": "display_data"
    },
    {
     "name": "stdout",
     "output_type": "stream",
     "text": [
      "Actual: tensor(2)\n",
      "Predicted: 2\n"
     ]
    }
   ],
   "source": [
    "import matplotlib.pyplot as plt\n",
    "for i in range(10):\n",
    "    plt.imshow(images[i][0])\n",
    "    plt.show()\n",
    "    print (\"Actual:\", labels[i])\n",
    "    print (\"Predicted:\", preds[i])"
   ]
  },
  {
   "cell_type": "code",
   "execution_count": null,
   "metadata": {},
   "outputs": [],
   "source": []
  }
 ],
 "metadata": {
  "kernelspec": {
   "display_name": "Python 3",
   "language": "python",
   "name": "python3"
  },
  "language_info": {
   "codemirror_mode": {
    "name": "ipython",
    "version": 3
   },
   "file_extension": ".py",
   "mimetype": "text/x-python",
   "name": "python",
   "nbconvert_exporter": "python",
   "pygments_lexer": "ipython3",
   "version": "3.6.6"
  }
 },
 "nbformat": 4,
 "nbformat_minor": 2
}
