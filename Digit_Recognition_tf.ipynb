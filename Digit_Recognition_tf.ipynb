{
  "nbformat": 4,
  "nbformat_minor": 0,
  "metadata": {
    "kernelspec": {
      "name": "python3",
      "display_name": "Python 3"
    },
    "language_info": {
      "codemirror_mode": {
        "name": "ipython",
        "version": 3
      },
      "file_extension": ".py",
      "mimetype": "text/x-python",
      "name": "python",
      "nbconvert_exporter": "python",
      "pygments_lexer": "ipython3",
      "version": "3.6.6"
    },
    "colab": {
      "name": "Digit_Recognition_tf.ipynb",
      "version": "0.3.2",
      "provenance": []
    },
    "accelerator": "GPU"
  },
  "cells": [
    {
      "cell_type": "markdown",
      "metadata": {
        "id": "vjTgZXHxifY0",
        "colab_type": "text"
      },
      "source": [
        "# Handwritten Digit Classification in Tensorflow\n",
        "\n",
        "**TensorFlow** is an open-source Python library developed by the Google Brain labs for deep learning research.\n",
        "The objective here is to take hand-drawn images of the numbers 0-9  and build and train a neural network to recognize and predict the correct label for the digit displayed. The dataset we will be using is called the **MNIST** dataset, and it is a classic in the machine learning community. This dataset is made up of images of handwritten digits, 28x28 pixels in size. Here are some examples of the digits included in the dataset:\n",
        "\n",
        "![alt text](https://upload.wikimedia.org/wikipedia/commons/2/27/MnistExamples.png)"
      ]
    },
    {
      "cell_type": "markdown",
      "metadata": {
        "id": "wLBia0BsifY-",
        "colab_type": "text"
      },
      "source": [
        "## Step 1: Import MNIST Dataset"
      ]
    },
    {
      "cell_type": "code",
      "metadata": {
        "id": "tijlD7-LifZI",
        "colab_type": "code",
        "colab": {}
      },
      "source": [
        "import tensorflow as tf\n",
        "import numpy as np\n",
        "import matplotlib.pyplot as plt\n",
        "%matplotlib inline\n",
        "from tensorflow.examples.tutorials.mnist import input_data # Download MNIST Dataset"
      ],
      "execution_count": 0,
      "outputs": []
    },
    {
      "cell_type": "markdown",
      "metadata": {
        "id": "SmzqESNEifZs",
        "colab_type": "text"
      },
      "source": [
        "### Ground truth as one -hot encoding for values in the range 0-9\n",
        "\n",
        "When reading in the data, we are using one-hot-encoding to represent the labels (the actual digit drawn, e.g. \"3\") of the images. One-hot-encoding uses a vector of binary values to represent numeric or categorical values. As our labels are for the digits 0-9, the vector contains ten values, one for each possible digit. One of these values is set to 1, to represent the digit at that index of the vector, and the rest are set to 0. For example, the digit 3 is represented using the vector [0, 0, 0, 1, 0, 0, 0, 0, 0, 0]. As the value at index 3 is stored as 1, the vector therefore represents the digit 3. "
      ]
    },
    {
      "cell_type": "code",
      "metadata": {
        "id": "ZII20iHkmkLR",
        "colab_type": "code",
        "colab": {
          "base_uri": "https://localhost:8080/",
          "height": 436
        },
        "outputId": "83e722cf-2cda-42b7-e2ed-2fd5e8e250d3"
      },
      "source": [
        "# Read the input data\n",
        "mnist = input_data.read_data_sets(\"MNIST_data/\", one_hot=True) # y labels are one-hot encoded"
      ],
      "execution_count": 2,
      "outputs": [
        {
          "output_type": "stream",
          "text": [
            "WARNING: Logging before flag parsing goes to stderr.\n",
            "W0726 07:07:04.860551 140406425028480 deprecation.py:323] From <ipython-input-2-64040bb782c2>:1: read_data_sets (from tensorflow.contrib.learn.python.learn.datasets.mnist) is deprecated and will be removed in a future version.\n",
            "Instructions for updating:\n",
            "Please use alternatives such as official/mnist/dataset.py from tensorflow/models.\n",
            "W0726 07:07:04.863049 140406425028480 deprecation.py:323] From /usr/local/lib/python3.6/dist-packages/tensorflow/contrib/learn/python/learn/datasets/mnist.py:260: maybe_download (from tensorflow.contrib.learn.python.learn.datasets.base) is deprecated and will be removed in a future version.\n",
            "Instructions for updating:\n",
            "Please write your own downloading logic.\n",
            "W0726 07:07:04.865444 140406425028480 deprecation.py:323] From /usr/local/lib/python3.6/dist-packages/tensorflow/contrib/learn/python/learn/datasets/mnist.py:262: extract_images (from tensorflow.contrib.learn.python.learn.datasets.mnist) is deprecated and will be removed in a future version.\n",
            "Instructions for updating:\n",
            "Please use tf.data to implement this functionality.\n"
          ],
          "name": "stderr"
        },
        {
          "output_type": "stream",
          "text": [
            "Extracting MNIST_data/train-images-idx3-ubyte.gz\n"
          ],
          "name": "stdout"
        },
        {
          "output_type": "stream",
          "text": [
            "W0726 07:07:05.115927 140406425028480 deprecation.py:323] From /usr/local/lib/python3.6/dist-packages/tensorflow/contrib/learn/python/learn/datasets/mnist.py:267: extract_labels (from tensorflow.contrib.learn.python.learn.datasets.mnist) is deprecated and will be removed in a future version.\n",
            "Instructions for updating:\n",
            "Please use tf.data to implement this functionality.\n",
            "W0726 07:07:05.118781 140406425028480 deprecation.py:323] From /usr/local/lib/python3.6/dist-packages/tensorflow/contrib/learn/python/learn/datasets/mnist.py:110: dense_to_one_hot (from tensorflow.contrib.learn.python.learn.datasets.mnist) is deprecated and will be removed in a future version.\n",
            "Instructions for updating:\n",
            "Please use tf.one_hot on tensors.\n",
            "W0726 07:07:05.172264 140406425028480 deprecation.py:323] From /usr/local/lib/python3.6/dist-packages/tensorflow/contrib/learn/python/learn/datasets/mnist.py:290: DataSet.__init__ (from tensorflow.contrib.learn.python.learn.datasets.mnist) is deprecated and will be removed in a future version.\n",
            "Instructions for updating:\n",
            "Please use alternatives such as official/mnist/dataset.py from tensorflow/models.\n"
          ],
          "name": "stderr"
        },
        {
          "output_type": "stream",
          "text": [
            "Extracting MNIST_data/train-labels-idx1-ubyte.gz\n",
            "Extracting MNIST_data/t10k-images-idx3-ubyte.gz\n",
            "Extracting MNIST_data/t10k-labels-idx1-ubyte.gz\n"
          ],
          "name": "stdout"
        }
      ]
    },
    {
      "cell_type": "code",
      "metadata": {
        "id": "ejjlrObWmSJU",
        "colab_type": "code",
        "colab": {
          "base_uri": "https://localhost:8080/",
          "height": 338
        },
        "outputId": "16a4b2bc-86c0-42c1-df0a-00726b923240"
      },
      "source": [
        "#Explore the data\n",
        "sample_image = mnist.train.next_batch(1)[0]\n",
        "print(\"Training image shape\", mnist.train.images.shape)\n",
        "print(\"Training labels shape\", mnist.train.labels.shape)\n",
        "print(\"Shape of an image\", sample_image.shape)\n",
        "sample_image = sample_image.reshape([28, 28])\n",
        "plt.imshow(sample_image,cmap = 'gray')"
      ],
      "execution_count": 3,
      "outputs": [
        {
          "output_type": "stream",
          "text": [
            "Training image shape (55000, 784)\n",
            "Training labels shape (55000, 10)\n",
            "Shape of an image (1, 784)\n"
          ],
          "name": "stdout"
        },
        {
          "output_type": "execute_result",
          "data": {
            "text/plain": [
              "<matplotlib.image.AxesImage at 0x7fb291ee5160>"
            ]
          },
          "metadata": {
            "tags": []
          },
          "execution_count": 3
        },
        {
          "output_type": "display_data",
          "data": {
            "image/png": "[encoded data removed]",
            "text/plain": [
              "<Figure size 432x288 with 1 Axes>"
            ]
          },
          "metadata": {
            "tags": []
          }
        }
      ]
    },
    {
      "cell_type": "code",
      "metadata": {
        "id": "SyzAjFHLifZz",
        "colab_type": "code",
        "colab": {}
      },
      "source": [
        "#---------- Train, val and test dataset ----------# \n",
        "n_train = mnist.train.num_examples  # 55,000\n",
        "n_validation = mnist.validation.num_examples  # 5000\n",
        "n_test = mnist.test.num_examples  # 10,000"
      ],
      "execution_count": 0,
      "outputs": []
    },
    {
      "cell_type": "markdown",
      "metadata": {
        "id": "bKSNFSz0ifaD",
        "colab_type": "text"
      },
      "source": [
        "## Step 2: Defining the Neural Network architecture\n",
        "The architecture of the neural network refers to elements such as the number of layers in the network, the number of units in each layer, and how the units are connected between layers. In the inline below, add the number of units per layer in global variables. \n"
      ]
    },
    {
      "cell_type": "code",
      "metadata": {
        "id": "ib0jHQ9xifab",
        "colab_type": "code",
        "colab": {}
      },
      "source": [
        "n_input = 784  # input layer (28x28 pixels)\n",
        "n_hidden1 = 512  # 1st hidden layer\n",
        "n_hidden2 = 256  # 2nd hidden layer\n",
        "n_hidden3 = 128  # 3rd hidden layer\n",
        "n_output = 10  # output layer (0-9 digits)\n"
      ],
      "execution_count": 0,
      "outputs": []
    },
    {
      "cell_type": "markdown",
      "metadata": {
        "id": "TgkXiziDifam",
        "colab_type": "text"
      },
      "source": [
        "**Architecture:** ![alt text](https://assets.digitalocean.com/articles/handwriting_tensorflow_python3/cnwitLM.png)"
      ]
    },
    {
      "cell_type": "code",
      "metadata": {
        "id": "3_OGefaLifar",
        "colab_type": "code",
        "colab": {}
      },
      "source": [
        "#---------- Define hyperparameters to train neural network ----------# \n",
        "learning_rate = 1e-4\n",
        "n_iterations = 1000\n",
        "batch_size = 128\n",
        "dropout = 0.5"
      ],
      "execution_count": 0,
      "outputs": []
    },
    {
      "cell_type": "markdown",
      "metadata": {
        "id": "n_ic09vEzTf1",
        "colab_type": "text"
      },
      "source": [
        "The **learning rate** represents how much the parameters will adjust at each step of the learning process. The **number of iterations** refers to how many times we go through the training step, and the **batch size** refers to how many training examples we are using at each step. The **dropout** variable represents a threshold at which we eliminate some units at random. "
      ]
    },
    {
      "cell_type": "markdown",
      "metadata": {
        "id": "yubnkNZIifa4",
        "colab_type": "text"
      },
      "source": [
        "## Step 3: Build Computational Graph"
      ]
    },
    {
      "cell_type": "code",
      "metadata": {
        "id": "kjeezZ4zifa_",
        "colab_type": "code",
        "colab": {}
      },
      "source": [
        "# Placeholder is a value that we input when we ask TensorFlow to run a computation.\n",
        "X = tf.placeholder(\"float\", [None, n_input]) \n",
        "#----------  Example: [None, 784], Where None denotes any number of samples of 784 pixels each ----------# \n",
        "\n",
        "Y = tf.placeholder(\"float\", [None, n_output])\n",
        "#---------- Example: [None, 10], Where None denotes any number of samples with 10 possible classes ----------#\n",
        "\n",
        "#---------- The keep_prob tensor is used to control the dropout rate, and we initialize it as a placeholder rather \n",
        "# than an immutable variable because we want to use the same tensor both for training (when dropout is set \n",
        "# to 0.5) and testing (when dropout is set to 1.0). ----------#\n",
        "keep_prob = tf.placeholder(tf.float32)"
      ],
      "execution_count": 0,
      "outputs": []
    },
    {
      "cell_type": "code",
      "metadata": {
        "id": "pNdgZHaiifbN",
        "colab_type": "code",
        "colab": {}
      },
      "source": [
        "#---------- Define weights and Biases ----------#\n",
        "\n",
        "weights = {\n",
        "    'w1': tf.Variable(tf.truncated_normal([n_input, n_hidden1], stddev=0.1)),\n",
        "    'w2': tf.Variable(tf.truncated_normal([n_hidden1, n_hidden2], stddev=0.1)),\n",
        "    'w3': tf.Variable(tf.truncated_normal([n_hidden2, n_hidden3], stddev=0.1)),\n",
        "    'out': tf.Variable(tf.truncated_normal([n_hidden3, n_output], stddev=0.1)),\n",
        "}\n",
        "\n",
        "#---------- Set bias to some constant value ----------#\n",
        "biases = {\n",
        "    'b1': tf.Variable(tf.constant(0.1, shape=[n_hidden1])),\n",
        "    'b2': tf.Variable(tf.constant(0.1, shape=[n_hidden2])),\n",
        "    'b3': tf.Variable(tf.constant(0.1, shape=[n_hidden3])),\n",
        "    'out': tf.Variable(tf.constant(0.1, shape=[n_output]))\n",
        "}\n",
        "\n",
        "#---------- Note: Weights and bias are assigned as dictionary for ease of access ----------#"
      ],
      "execution_count": 0,
      "outputs": []
    },
    {
      "cell_type": "code",
      "metadata": {
        "id": "m45eDbTtifbc",
        "colab_type": "code",
        "colab": {
          "base_uri": "https://localhost:8080/",
          "height": 89
        },
        "outputId": "3bec9690-8c0c-4014-8822-009dd98e8f96"
      },
      "source": [
        "#---------- Define Layers ----------#\n",
        "layer_1 = tf.add(tf.matmul(X, weights['w1']), biases['b1'])\n",
        "layer_2 = tf.add(tf.matmul(layer_1, weights['w2']), biases['b2'])\n",
        "layer_3 = tf.add(tf.matmul(layer_2, weights['w3']), biases['b3'])\n",
        "layer_drop = tf.nn.dropout(layer_3, keep_prob)\n",
        "output_layer = tf.matmul(layer_3, weights['out']) + biases['out']\n",
        "y1 = tf.nn.softmax(output_layer)"
      ],
      "execution_count": 9,
      "outputs": [
        {
          "output_type": "stream",
          "text": [
            "W0726 07:07:05.799302 140406425028480 deprecation.py:506] From <ipython-input-9-91707481a6a6>:4: calling dropout (from tensorflow.python.ops.nn_ops) with keep_prob is deprecated and will be removed in a future version.\n",
            "Instructions for updating:\n",
            "Please use `rate` instead of `keep_prob`. Rate should be set to `rate = 1 - keep_prob`.\n"
          ],
          "name": "stderr"
        }
      ]
    },
    {
      "cell_type": "markdown",
      "metadata": {
        "id": "0V5ntig57NT4",
        "colab_type": "text"
      },
      "source": [
        "### Loss function and Optimization Algorithm\n",
        "The final step in building the graph is to define the loss function that we want to optimize. A popular choice of loss function in TensorFlow programs is **cross-entropy**, also known as log-loss, which quantifies the difference between two probability distributions (the predictions and the labels). A perfect classification would result in a cross-entropy of 0, with the loss completely minimized.\n",
        "\n",
        "We also need to choose the optimization algorithm which will be used to minimize the loss function. A process named **gradient descent optimization** is a common method for finding the (local) minimum of a function by taking iterative steps along the gradient in a negative (descending) direction. There are several choices of gradient descent optimization algorithms already implemented in TensorFlow, and we will be using the Adam optimizer. "
      ]
    },
    {
      "cell_type": "code",
      "metadata": {
        "id": "gTgZLET8ifbu",
        "colab_type": "code",
        "colab": {
          "base_uri": "https://localhost:8080/",
          "height": 176
        },
        "outputId": "8c8ed1df-55ca-4c41-eded-e6c8201b1c6b"
      },
      "source": [
        "#---------- Loss function used: Cross Entropy ----------#\n",
        "#---------- Optimization Algo: Gradient Descent Algorithm ----------#\n",
        "\n",
        "cross_entropy = tf.reduce_mean(\n",
        "    tf.nn.softmax_cross_entropy_with_logits(\n",
        "        labels=Y, logits=output_layer\n",
        "        ))\n",
        "train_step = tf.train.AdamOptimizer(1e-4).minimize(cross_entropy)"
      ],
      "execution_count": 10,
      "outputs": [
        {
          "output_type": "stream",
          "text": [
            "W0726 07:07:05.819406 140406425028480 deprecation.py:323] From <ipython-input-10-8744d5e3ae41>:4: softmax_cross_entropy_with_logits (from tensorflow.python.ops.nn_ops) is deprecated and will be removed in a future version.\n",
            "Instructions for updating:\n",
            "\n",
            "Future major versions of TensorFlow will allow gradients to flow\n",
            "into the labels input on backprop by default.\n",
            "\n",
            "See `tf.nn.softmax_cross_entropy_with_logits_v2`.\n",
            "\n"
          ],
          "name": "stderr"
        }
      ]
    },
    {
      "cell_type": "markdown",
      "metadata": {
        "id": "OGb7R_pnifcI",
        "colab_type": "text"
      },
      "source": [
        "## Step 4: Training and Testing"
      ]
    },
    {
      "cell_type": "markdown",
      "metadata": {
        "id": "HJHZtYXd5zDO",
        "colab_type": "text"
      },
      "source": [
        "The **training process** involves feeding the training dataset through the graph and optimizing the loss function. Every time the network iterates through a batch of more training images, it updates the parameters to reduce the loss in order to more accurately predict the digits shown. The **testing process** involves running our testing dataset through the trained graph, and keeping track of the number of images that are correctly predicted, so that we can calculate the accuracy."
      ]
    },
    {
      "cell_type": "markdown",
      "metadata": {
        "id": "gbMfEehT6QZS",
        "colab_type": "text"
      },
      "source": [
        "In correct_pred, we use the arg_max function to compare which images are being predicted correctly by looking at the output_layer (predictions) and Y (labels), and we use the equal function to return this as a list of Booleans. We can then cast this list to floats and calculate the mean to get a total accuracy score. "
      ]
    },
    {
      "cell_type": "code",
      "metadata": {
        "id": "pECtJsa0ifcN",
        "colab_type": "code",
        "colab": {}
      },
      "source": [
        "correct_pred = tf.equal(tf.argmax(output_layer, 1), tf.argmax(Y, 1))\n",
        "accuracy = tf.reduce_mean(tf.cast(correct_pred, tf.float32))\n"
      ],
      "execution_count": 0,
      "outputs": []
    },
    {
      "cell_type": "code",
      "metadata": {
        "id": "yRFanuRcifcY",
        "colab_type": "code",
        "colab": {}
      },
      "source": [
        "#---------- Initialize a session for running the graph ----------#\n",
        "init = tf.global_variables_initializer()\n",
        "sess = tf.Session()\n",
        "sess.run(init)"
      ],
      "execution_count": 0,
      "outputs": []
    },
    {
      "cell_type": "code",
      "metadata": {
        "id": "3mycZ8xMifcm",
        "colab_type": "code",
        "colab": {
          "base_uri": "https://localhost:8080/",
          "height": 191
        },
        "outputId": "8a0851ed-5ff2-452d-e838-ba3e6fd0b11a"
      },
      "source": [
        "#---------- Train on mini batches ----------#\n",
        "for i in range(n_iterations):\n",
        "    batch_x, batch_y = mnist.train.next_batch(batch_size)\n",
        "    sess.run(train_step, feed_dict={\n",
        "        X: batch_x, Y: batch_y, keep_prob: dropout\n",
        "        })\n",
        "\n",
        "    # print loss and accuracy (per minibatch)\n",
        "    if i % 100 == 0:\n",
        "        minibatch_loss, minibatch_accuracy = sess.run(\n",
        "            [cross_entropy, accuracy],\n",
        "            feed_dict={X: batch_x, Y: batch_y, keep_prob: 1.0}\n",
        "            )\n",
        "        print(\n",
        "            \"Iteration\",\n",
        "            str(i),\n",
        "            \"\\t| Loss =\",\n",
        "            str(minibatch_loss),\n",
        "            \"\\t| Accuracy =\",\n",
        "            str(minibatch_accuracy)\n",
        "            )"
      ],
      "execution_count": 13,
      "outputs": [
        {
          "output_type": "stream",
          "text": [
            "Iteration 0 \t| Loss = 3.7177055 \t| Accuracy = 0.0703125\n",
            "Iteration 100 \t| Loss = 0.6287979 \t| Accuracy = 0.8515625\n",
            "Iteration 200 \t| Loss = 0.29593214 \t| Accuracy = 0.921875\n",
            "Iteration 300 \t| Loss = 0.31414837 \t| Accuracy = 0.9140625\n",
            "Iteration 400 \t| Loss = 0.23724195 \t| Accuracy = 0.9375\n",
            "Iteration 500 \t| Loss = 0.23753226 \t| Accuracy = 0.9453125\n",
            "Iteration 600 \t| Loss = 0.36376166 \t| Accuracy = 0.90625\n",
            "Iteration 700 \t| Loss = 0.36378384 \t| Accuracy = 0.8984375\n",
            "Iteration 800 \t| Loss = 0.2209622 \t| Accuracy = 0.9453125\n",
            "Iteration 900 \t| Loss = 0.22443202 \t| Accuracy = 0.921875\n"
          ],
          "name": "stdout"
        }
      ]
    },
    {
      "cell_type": "code",
      "metadata": {
        "id": "Cb8bmWXNifc4",
        "colab_type": "code",
        "colab": {
          "base_uri": "https://localhost:8080/",
          "height": 52
        },
        "outputId": "91350567-8730-40b5-f1f1-6067be59d417"
      },
      "source": [
        "#---------- Compute the results on test data ----------#\n",
        "test_accuracy = sess.run(accuracy, feed_dict={X: mnist.test.images, Y: mnist.test.labels, keep_prob: 1.0})\n",
        "print(\"\\nAccuracy on test set:\", test_accuracy)"
      ],
      "execution_count": 14,
      "outputs": [
        {
          "output_type": "stream",
          "text": [
            "\n",
            "Accuracy on test set: 0.9198\n"
          ],
          "name": "stdout"
        }
      ]
    },
    {
      "cell_type": "markdown",
      "metadata": {
        "id": "gm1GNSxkCBDr",
        "colab_type": "text"
      },
      "source": [
        "##Results"
      ]
    },
    {
      "cell_type": "code",
      "metadata": {
        "id": "lGyervak_A62",
        "colab_type": "code",
        "colab": {
          "base_uri": "https://localhost:8080/",
          "height": 191
        },
        "outputId": "54c361b6-7608-4c92-cdbe-d530fc59b147"
      },
      "source": [
        "# Display the labels of the selected images\n",
        "original_images = mnist.test.images[0:10]\n",
        "original_labels = mnist.test.labels[0:10]\n",
        "original_labels"
      ],
      "execution_count": 15,
      "outputs": [
        {
          "output_type": "execute_result",
          "data": {
            "text/plain": [
              "array([[0., 0., 0., 0., 0., 0., 0., 1., 0., 0.],\n",
              "       [0., 0., 1., 0., 0., 0., 0., 0., 0., 0.],\n",
              "       [0., 1., 0., 0., 0., 0., 0., 0., 0., 0.],\n",
              "       [1., 0., 0., 0., 0., 0., 0., 0., 0., 0.],\n",
              "       [0., 0., 0., 0., 1., 0., 0., 0., 0., 0.],\n",
              "       [0., 1., 0., 0., 0., 0., 0., 0., 0., 0.],\n",
              "       [0., 0., 0., 0., 1., 0., 0., 0., 0., 0.],\n",
              "       [0., 0., 0., 0., 0., 0., 0., 0., 0., 1.],\n",
              "       [0., 0., 0., 0., 0., 1., 0., 0., 0., 0.],\n",
              "       [0., 0., 0., 0., 0., 0., 0., 0., 0., 1.]])"
            ]
          },
          "metadata": {
            "tags": []
          },
          "execution_count": 15
        }
      ]
    },
    {
      "cell_type": "code",
      "metadata": {
        "id": "AL3zIYAN_CL4",
        "colab_type": "code",
        "colab": {
          "base_uri": "https://localhost:8080/",
          "height": 34
        },
        "outputId": "ac12935c-be1f-46fd-8953-72823f6c614e"
      },
      "source": [
        "# Predict the model on the selected samples\n",
        "prediction = tf.argmax(y1,1)\n",
        "prediction_val = prediction.eval(feed_dict={X: original_images, keep_prob: 1.0}, session=sess)\n",
        "print(\"predictions\", prediction_val)"
      ],
      "execution_count": 16,
      "outputs": [
        {
          "output_type": "stream",
          "text": [
            "predictions [7 2 1 0 4 1 4 9 6 9]\n"
          ],
          "name": "stdout"
        }
      ]
    },
    {
      "cell_type": "code",
      "metadata": {
        "id": "QDlJZNNr_KTa",
        "colab_type": "code",
        "colab": {
          "base_uri": "https://localhost:8080/",
          "height": 1000
        },
        "outputId": "6a6f0371-1e79-49a5-f1e0-f4315e9655d4"
      },
      "source": [
        "for i in range(0, 10):\n",
        "    print('Correct label', np.argmax(original_labels[i]))\n",
        "    print('Predicted label:', prediction_val[i])\n",
        "    plt.figure(figsize=(2, 2))\n",
        "    plt.axis('off')\n",
        "    plt.imshow(original_images[i].reshape([28, 28]),cmap = \"gray\")\n",
        "    plt.show()"
      ],
      "execution_count": 17,
      "outputs": [
        {
          "output_type": "stream",
          "text": [
            "Correct label 7\n",
            "Predicted label: 7\n"
          ],
          "name": "stdout"
        },
        {
          "output_type": "display_data",
          "data": {
            "image/png": "[encoded data removed]",
            "text/plain": [
              "<Figure size 144x144 with 1 Axes>"
            ]
          },
          "metadata": {
            "tags": []
          }
        },
        {
          "output_type": "stream",
          "text": [
            "Correct label 2\n",
            "Predicted label: 2\n"
          ],
          "name": "stdout"
        },
        {
          "output_type": "display_data",
          "data": {
            "image/png": "[encoded data removed]",
            "text/plain": [
              "<Figure size 144x144 with 1 Axes>"
            ]
          },
          "metadata": {
            "tags": []
          }
        },
        {
          "output_type": "stream",
          "text": [
            "Correct label 1\n",
            "Predicted label: 1\n"
          ],
          "name": "stdout"
        },
        {
          "output_type": "display_data",
          "data": {
            "image/png": "[encoded data removed]",
            "text/plain": [
              "<Figure size 144x144 with 1 Axes>"
            ]
          },
          "metadata": {
            "tags": []
          }
        },
        {
          "output_type": "stream",
          "text": [
            "Correct label 0\n",
            "Predicted label: 0\n"
          ],
          "name": "stdout"
        },
        {
          "output_type": "display_data",
          "data": {
            "image/png": "[encoded data removed]",
            "text/plain": [
              "<Figure size 144x144 with 1 Axes>"
            ]
          },
          "metadata": {
            "tags": []
          }
        },
        {
          "output_type": "stream",
          "text": [
            "Correct label 4\n",
            "Predicted label: 4\n"
          ],
          "name": "stdout"
        },
        {
          "output_type": "display_data",
          "data": {
            "image/png": "[encoded data removed]",
            "text/plain": [
              "<Figure size 144x144 with 1 Axes>"
            ]
          },
          "metadata": {
            "tags": []
          }
        },
        {
          "output_type": "stream",
          "text": [
            "Correct label 1\n",
            "Predicted label: 1\n"
          ],
          "name": "stdout"
        },
        {
          "output_type": "display_data",
          "data": {
            "image/png": "[encoded data removed]",
            "text/plain": [
              "<Figure size 144x144 with 1 Axes>"
            ]
          },
          "metadata": {
            "tags": []
          }
        },
        {
          "output_type": "stream",
          "text": [
            "Correct label 4\n",
            "Predicted label: 4\n"
          ],
          "name": "stdout"
        },
        {
          "output_type": "display_data",
          "data": {
            "image/png": "[encoded data removed]",
            "text/plain": [
              "<Figure size 144x144 with 1 Axes>"
            ]
          },
          "metadata": {
            "tags": []
          }
        },
        {
          "output_type": "stream",
          "text": [
            "Correct label 9\n",
            "Predicted label: 9\n"
          ],
          "name": "stdout"
        },
        {
          "output_type": "display_data",
          "data": {
            "image/png": "[encoded data removed]",
            "text/plain": [
              "<Figure size 144x144 with 1 Axes>"
            ]
          },
          "metadata": {
            "tags": []
          }
        },
        {
          "output_type": "stream",
          "text": [
            "Correct label 5\n",
            "Predicted label: 6\n"
          ],
          "name": "stdout"
        },
        {
          "output_type": "display_data",
          "data": {
            "image/png": "[encoded data removed]",
            "text/plain": [
              "<Figure size 144x144 with 1 Axes>"
            ]
          },
          "metadata": {
            "tags": []
          }
        },
        {
          "output_type": "stream",
          "text": [
            "Correct label 9\n",
            "Predicted label: 9\n"
          ],
          "name": "stdout"
        },
        {
          "output_type": "display_data",
          "data": {
            "image/png": "[encoded data removed]",
            "text/plain": [
              "<Figure size 144x144 with 1 Axes>"
            ]
          },
          "metadata": {
            "tags": []
          }
        }
      ]
    },
    {
      "cell_type": "code",
      "metadata": {
        "id": "cevHcuOLBEEk",
        "colab_type": "code",
        "colab": {}
      },
      "source": [
        ""
      ],
      "execution_count": 0,
      "outputs": []
    }
  ]
}