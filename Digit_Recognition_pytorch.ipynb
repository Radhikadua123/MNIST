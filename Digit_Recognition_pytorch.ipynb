{
  "nbformat": 4,
  "nbformat_minor": 0,
  "metadata": {
    "kernelspec": {
      "name": "python3",
      "display_name": "Python 3"
    },
    "language_info": {
      "codemirror_mode": {
        "name": "ipython",
        "version": 3
      },
      "file_extension": ".py",
      "mimetype": "text/x-python",
      "name": "python",
      "nbconvert_exporter": "python",
      "pygments_lexer": "ipython3",
      "version": "3.6.6"
    },
    "colab": {
      "name": "Digit_Recognition_pytorch.ipynb",
      "version": "0.3.2",
      "provenance": []
    },
    "accelerator": "GPU"
  },
  "cells": [
    {
      "cell_type": "markdown",
      "metadata": {
        "id": "N3cSpPHoohaD",
        "colab_type": "text"
      },
      "source": [
        "# Handwritten Digit Classification in Pytorch\n",
        "\n",
        "The objective here is to take hand-drawn images of the numbers 0-9  and build and train a neural network to recognize and predict the correct label for the digit displayed. The dataset we will be using is called the **MNIST** dataset, and it is a classic in the machine learning community. This dataset is made up of images of handwritten digits, 28x28 pixels in size. Here are some examples of the digits included in the dataset:\n",
        "\n",
        "![alt text](https://upload.wikimedia.org/wikipedia/commons/2/27/MnistExamples.png)"
      ]
    },
    {
      "cell_type": "markdown",
      "metadata": {
        "id": "F7c5tqQQohaO",
        "colab_type": "text"
      },
      "source": [
        "In this notebook our main focus is to use different utility packages provided within PyTorch (nn, autograd, optim, torchvision, torchtext, etc.) to build and train neural networks. "
      ]
    },
    {
      "cell_type": "markdown",
      "metadata": {
        "id": "rvt8fD8XohaV",
        "colab_type": "text"
      },
      "source": [
        "## Step 1: Import MNIST Dataset  and Preprocess it"
      ]
    },
    {
      "cell_type": "code",
      "metadata": {
        "id": "T3uT3lKjohac",
        "colab_type": "code",
        "colab": {}
      },
      "source": [
        "from torchvision import transforms\n",
        "from torchvision.datasets import MNIST\n",
        "import torch.nn.functional as F"
      ],
      "execution_count": 0,
      "outputs": []
    },
    {
      "cell_type": "code",
      "metadata": {
        "id": "NakjbVQ0ohav",
        "colab_type": "code",
        "colab": {}
      },
      "source": [
        "### Data Preprocessing: We need to transform the raw dataset into tensors and normalize them in a fixed range.\n",
        "### The torchvision package provides a utility called transforms which can be used to combine different \n",
        "### transformations together.\n",
        "\n",
        "transform_tasks = transforms.Compose([\n",
        "    transforms.ToTensor(),\n",
        "    transforms.Normalize((0.5,), (0.5,))\n",
        "    ])"
      ],
      "execution_count": 0,
      "outputs": []
    },
    {
      "cell_type": "markdown",
      "metadata": {
        "id": "ajzQhVEEoha_",
        "colab_type": "text"
      },
      "source": [
        "The first transformation converts the raw data into tensor variables and the second transformation performs normalization using the below operation:\n",
        "\n",
        "x_normalized = x-mean / std\n",
        "\n",
        "The values 0.5 and 0.5 represent the mean and standard deviation for 3 channels: red, green, and blue."
      ]
    },
    {
      "cell_type": "code",
      "metadata": {
        "id": "6HwcQMkhohbH",
        "colab_type": "code",
        "colab": {}
      },
      "source": [
        "#--------- Load MNIST Dataset and apply transformations ---------#\n",
        "mnist = MNIST(\"data\", download=True, train=True, transform=transform_tasks)"
      ],
      "execution_count": 0,
      "outputs": []
    },
    {
      "cell_type": "markdown",
      "metadata": {
        "id": "O6rrKYzFohbU",
        "colab_type": "text"
      },
      "source": [
        "### DataLoader: \n",
        "**Iterators** which provide the ability to batch, shuffle and load the data in parallel using multiprocessing workers. For the purpose of evaluating our model, we will partition our data into training and validation sets."
      ]
    },
    {
      "cell_type": "code",
      "metadata": {
        "id": "JZfnrKBIohbY",
        "colab_type": "code",
        "colab": {}
      },
      "source": [
        "from torch.utils.data import DataLoader\n",
        "from torch.utils.data.sampler import SubsetRandomSampler"
      ],
      "execution_count": 0,
      "outputs": []
    },
    {
      "cell_type": "code",
      "metadata": {
        "id": "4GZib6kTohbm",
        "colab_type": "code",
        "colab": {}
      },
      "source": [
        "#--------- create training and validation split ---------#\n",
        "split = int(0.8 * len(mnist))\n",
        "index_list = list(range(len(mnist)))\n",
        "train_idx, valid_idx = index_list[:split], index_list[split:]"
      ],
      "execution_count": 0,
      "outputs": []
    },
    {
      "cell_type": "code",
      "metadata": {
        "id": "O3F-rz1Oohb1",
        "colab_type": "code",
        "colab": {}
      },
      "source": [
        "#--------- create sampler objects using SubsetRandomSampler ---------#\n",
        "tr_sampler = SubsetRandomSampler(train_idx)\n",
        "val_sampler = SubsetRandomSampler(valid_idx)"
      ],
      "execution_count": 0,
      "outputs": []
    },
    {
      "cell_type": "code",
      "metadata": {
        "id": "yrCnKBkJohcG",
        "colab_type": "code",
        "colab": {}
      },
      "source": [
        "#--------- create iterator objects for train and valid datasets ---------#\n",
        "trainloader = DataLoader(mnist, batch_size=256, sampler=tr_sampler)\n",
        "validloader = DataLoader(mnist, batch_size=256, sampler=val_sampler)"
      ],
      "execution_count": 0,
      "outputs": []
    },
    {
      "cell_type": "markdown",
      "metadata": {
        "id": "SJRF1cjnohcW",
        "colab_type": "text"
      },
      "source": [
        "## Step 2: Defining the Neural Network\n",
        "The architecture of the neural network refers to elements such as the number of layers in the network, the number of units in each layer, and how the units are connected between layers. In the inline below, add the number of units per layer in global variables. \n",
        "![alt text](https://assets.digitalocean.com/articles/handwriting_tensorflow_python3/cnwitLM.png)"
      ]
    },
    {
      "cell_type": "code",
      "metadata": {
        "id": "b_3HxYRNohcZ",
        "colab_type": "code",
        "colab": {}
      },
      "source": [
        "import torch.nn.functional as F\n",
        "import torch.nn as nn\n",
        "\n",
        "class Model(nn.Module):\n",
        "    def __init__(self):\n",
        "        super().__init__()\n",
        "        self.hidden1 = nn.Linear(784, 512)\n",
        "        self.hidden2 = nn.Linear(512, 256)\n",
        "        self.hidden3 = nn.Linear(256, 128)\n",
        "        self.output = nn.Linear(128, 10)\n",
        "  \n",
        "    def forward(self, x):\n",
        "        x = self.hidden1(x)\n",
        "        x = F.sigmoid(x)\n",
        "        x = self.hidden2(x)\n",
        "        x = F.sigmoid(x)\n",
        "        x = self.hidden3(x)\n",
        "        x = F.sigmoid(x)\n",
        "        x = self.output(x)\n",
        "        return x\n",
        "\n"
      ],
      "execution_count": 0,
      "outputs": []
    },
    {
      "cell_type": "code",
      "metadata": {
        "id": "8NW9uTT9ohcs",
        "colab_type": "code",
        "colab": {}
      },
      "source": [
        "model = Model()"
      ],
      "execution_count": 0,
      "outputs": []
    },
    {
      "cell_type": "markdown",
      "metadata": {
        "id": "hrDelUEeohc-",
        "colab_type": "text"
      },
      "source": [
        "### Loss Function and Optimizer\n",
        "Define the loss function and the optimizer using the nn and optim package:"
      ]
    },
    {
      "cell_type": "code",
      "metadata": {
        "id": "SDMDzazOohdC",
        "colab_type": "code",
        "colab": {}
      },
      "source": [
        "from torch import optim"
      ],
      "execution_count": 0,
      "outputs": []
    },
    {
      "cell_type": "code",
      "metadata": {
        "id": "HX_lxjEYohdQ",
        "colab_type": "code",
        "colab": {}
      },
      "source": [
        "loss_function = nn.CrossEntropyLoss()\n",
        "optimizer = optim.SGD(model.parameters(), lr=0.01, weight_decay= 1e-6, momentum = 0.9, nesterov = True)"
      ],
      "execution_count": 0,
      "outputs": []
    },
    {
      "cell_type": "markdown",
      "metadata": {
        "id": "gkVvjOn7ohdd",
        "colab_type": "text"
      },
      "source": [
        "## Step 3: Training and Testing"
      ]
    },
    {
      "cell_type": "code",
      "metadata": {
        "id": "EVx7Qq0cohdh",
        "colab_type": "code",
        "colab": {
          "base_uri": "https://localhost:8080/",
          "height": 489
        },
        "outputId": "06551456-8a97-49ed-e5af-b76300ad1201"
      },
      "source": [
        "import numpy as np\n",
        "\n",
        "for epoch in range(1, 25): ## Run the model for 10 epochs\n",
        "    train_loss, valid_loss = [], []\n",
        "    \n",
        "    ## training part \n",
        "    model.train()\n",
        "    for data, target in trainloader:\n",
        "        \n",
        "        data = data.reshape(-1,28*28)\n",
        "        optimizer.zero_grad()\n",
        "        \n",
        "         ## 1. forward propagation\n",
        "        output = model(data)\n",
        "        \n",
        "        ## 2. loss calculation\n",
        "        loss = loss_function(output, target)\n",
        "        \n",
        "        ## 3. backward propagation\n",
        "        loss.backward()\n",
        "        \n",
        "        ## 4. weight optimization\n",
        "        optimizer.step()\n",
        "        \n",
        "        train_loss.append(loss.item())\n",
        "        \n",
        "    ## evaluation part \n",
        "    model.eval()\n",
        "    for data, target in validloader:\n",
        "        \n",
        "        data = data.reshape(-1,28*28)\n",
        "        output = model(data)\n",
        "        loss = loss_function(output, target)\n",
        "        valid_loss.append(loss.item())\n",
        "        \n",
        "    print (\"Epoch:\", epoch, \"Training Loss: \", np.mean(train_loss), \"Valid Loss: \", np.mean(valid_loss))\n",
        "        \n"
      ],
      "execution_count": 12,
      "outputs": [
        {
          "output_type": "stream",
          "text": [
            "/usr/local/lib/python3.6/dist-packages/torch/nn/functional.py:1386: UserWarning: nn.functional.sigmoid is deprecated. Use torch.sigmoid instead.\n",
            "  warnings.warn(\"nn.functional.sigmoid is deprecated. Use torch.sigmoid instead.\")\n"
          ],
          "name": "stderr"
        },
        {
          "output_type": "stream",
          "text": [
            "Epoch: 1 Training Loss:  2.304308307931778 Valid Loss:  2.305194027880405\n",
            "Epoch: 2 Training Loss:  2.301087327460025 Valid Loss:  2.305429123817606\n",
            "Epoch: 3 Training Loss:  2.2991073930517154 Valid Loss:  2.3003978779975403\n",
            "Epoch: 4 Training Loss:  2.2964750122516713 Valid Loss:  2.294530011237936\n",
            "Epoch: 5 Training Loss:  2.291002128986602 Valid Loss:  2.2892358404524784\n",
            "Epoch: 6 Training Loss:  2.277889220004386 Valid Loss:  2.2644382639134184\n",
            "Epoch: 7 Training Loss:  2.225605883496873 Valid Loss:  2.152382551355565\n",
            "Epoch: 8 Training Loss:  1.906480700411695 Valid Loss:  1.5871165711829003\n",
            "Epoch: 9 Training Loss:  1.42108305591218 Valid Loss:  1.288232996108684\n",
            "Epoch: 10 Training Loss:  1.2119749949333516 Valid Loss:  1.0759656898518826\n",
            "Epoch: 11 Training Loss:  0.9756659757583699 Valid Loss:  0.8463183070750947\n",
            "Epoch: 12 Training Loss:  0.8195745745237838 Valid Loss:  0.7442084309902597\n",
            "Epoch: 13 Training Loss:  0.7481442994259774 Valid Loss:  0.6924327104649646\n",
            "Epoch: 14 Training Loss:  0.6974882175947758 Valid Loss:  0.6477924369751139\n",
            "Epoch: 15 Training Loss:  0.6531664351833627 Valid Loss:  0.6063243619939114\n",
            "Epoch: 16 Training Loss:  0.6116117219975654 Valid Loss:  0.5624122689379022\n",
            "Epoch: 17 Training Loss:  0.5730065657420361 Valid Loss:  0.5271319867448604\n",
            "Epoch: 18 Training Loss:  0.5364473829878137 Valid Loss:  0.49933279511776374\n",
            "Epoch: 19 Training Loss:  0.5051678872488915 Valid Loss:  0.4673377605194741\n",
            "Epoch: 20 Training Loss:  0.47851061614904 Valid Loss:  0.44357319905402814\n",
            "Epoch: 21 Training Loss:  0.45517322151584827 Valid Loss:  0.4237213286947697\n",
            "Epoch: 22 Training Loss:  0.43515484748368566 Valid Loss:  0.4043394701277956\n",
            "Epoch: 23 Training Loss:  0.4160145213629337 Valid Loss:  0.3891663221602744\n",
            "Epoch: 24 Training Loss:  0.3995544040139685 Valid Loss:  0.37320427247818483\n"
          ],
          "name": "stdout"
        }
      ]
    },
    {
      "cell_type": "markdown",
      "metadata": {
        "id": "80ZzRUeAohdz",
        "colab_type": "text"
      },
      "source": [
        "## Prediction on test data"
      ]
    },
    {
      "cell_type": "code",
      "metadata": {
        "id": "0BnRTP4Zohd4",
        "colab_type": "code",
        "colab": {
          "base_uri": "https://localhost:8080/",
          "height": 72
        },
        "outputId": "5c1e90ab-f096-4661-b5bd-d41c0d1a95ed"
      },
      "source": [
        "dataiter = iter(validloader)\n",
        "data, labels = dataiter.next()\n",
        "images = data\n",
        "data = data.reshape(-1,28*28)\n",
        "output = model(data)"
      ],
      "execution_count": 13,
      "outputs": [
        {
          "output_type": "stream",
          "text": [
            "/usr/local/lib/python3.6/dist-packages/torch/nn/functional.py:1386: UserWarning: nn.functional.sigmoid is deprecated. Use torch.sigmoid instead.\n",
            "  warnings.warn(\"nn.functional.sigmoid is deprecated. Use torch.sigmoid instead.\")\n"
          ],
          "name": "stderr"
        }
      ]
    },
    {
      "cell_type": "code",
      "metadata": {
        "id": "hvdfpy6coheJ",
        "colab_type": "code",
        "colab": {}
      },
      "source": [
        "import torch \n",
        "_, preds_tensor = torch.max(output, 1)\n",
        "preds = np.squeeze(preds_tensor.numpy())"
      ],
      "execution_count": 0,
      "outputs": []
    },
    {
      "cell_type": "code",
      "metadata": {
        "id": "g5JS6xWVoheV",
        "colab_type": "code",
        "colab": {
          "base_uri": "https://localhost:8080/",
          "height": 34
        },
        "outputId": "0237a1bf-bed6-4043-e423-6f10ed9908dc"
      },
      "source": [
        "#--------- Test Accuracy ---------#\n",
        "from sklearn.metrics import accuracy_score\n",
        "print(accuracy_score(labels, preds))"
      ],
      "execution_count": 15,
      "outputs": [
        {
          "output_type": "stream",
          "text": [
            "0.8984375\n"
          ],
          "name": "stdout"
        }
      ]
    },
    {
      "cell_type": "markdown",
      "metadata": {
        "id": "qjC4dW1u8gpt",
        "colab_type": "text"
      },
      "source": [
        "##Results"
      ]
    },
    {
      "cell_type": "code",
      "metadata": {
        "id": "ellfxQwZohes",
        "colab_type": "code",
        "colab": {
          "base_uri": "https://localhost:8080/",
          "height": 1000
        },
        "outputId": "f6e38831-6a5f-4a29-981c-1c101f9bf125"
      },
      "source": [
        "import matplotlib.pyplot as plt\n",
        "for i in range(10):\n",
        "    plt.imshow(images[i][0],cmap='gray')\n",
        "    plt.show()\n",
        "    print (\"Actual:\", labels[i])\n",
        "    print (\"Predicted:\", preds[i])"
      ],
      "execution_count": 16,
      "outputs": [
        {
          "output_type": "display_data",
          "data": {
            "image/png": "[encoded data removed]",
            "text/plain": [
              "<Figure size 432x288 with 1 Axes>"
            ]
          },
          "metadata": {
            "tags": []
          }
        },
        {
          "output_type": "stream",
          "text": [
            "Actual: tensor(9)\n",
            "Predicted: 9\n"
          ],
          "name": "stdout"
        },
        {
          "output_type": "display_data",
          "data": {
            "image/png": "[encoded data removed]",
            "text/plain": [
              "<Figure size 432x288 with 1 Axes>"
            ]
          },
          "metadata": {
            "tags": []
          }
        },
        {
          "output_type": "stream",
          "text": [
            "Actual: tensor(7)\n",
            "Predicted: 7\n"
          ],
          "name": "stdout"
        },
        {
          "output_type": "display_data",
          "data": {
            "image/png": "[encoded data removed]",
            "text/plain": [
              "<Figure size 432x288 with 1 Axes>"
            ]
          },
          "metadata": {
            "tags": []
          }
        },
        {
          "output_type": "stream",
          "text": [
            "Actual: tensor(1)\n",
            "Predicted: 1\n"
          ],
          "name": "stdout"
        },
        {
          "output_type": "display_data",
          "data": {
            "image/png": "[encoded data removed]",
            "text/plain": [
              "<Figure size 432x288 with 1 Axes>"
            ]
          },
          "metadata": {
            "tags": []
          }
        },
        {
          "output_type": "stream",
          "text": [
            "Actual: tensor(4)\n",
            "Predicted: 4\n"
          ],
          "name": "stdout"
        },
        {
          "output_type": "display_data",
          "data": {
            "image/png": "[encoded data removed]",
            "text/plain": [
              "<Figure size 432x288 with 1 Axes>"
            ]
          },
          "metadata": {
            "tags": []
          }
        },
        {
          "output_type": "stream",
          "text": [
            "Actual: tensor(3)\n",
            "Predicted: 3\n"
          ],
          "name": "stdout"
        },
        {
          "output_type": "display_data",
          "data": {
            "image/png": "[encoded data removed]",
            "text/plain": [
              "<Figure size 432x288 with 1 Axes>"
            ]
          },
          "metadata": {
            "tags": []
          }
        },
        {
          "output_type": "stream",
          "text": [
            "Actual: tensor(3)\n",
            "Predicted: 2\n"
          ],
          "name": "stdout"
        },
        {
          "output_type": "display_data",
          "data": {
            "image/png": "[encoded data removed]",
            "text/plain": [
              "<Figure size 432x288 with 1 Axes>"
            ]
          },
          "metadata": {
            "tags": []
          }
        },
        {
          "output_type": "stream",
          "text": [
            "Actual: tensor(4)\n",
            "Predicted: 4\n"
          ],
          "name": "stdout"
        },
        {
          "output_type": "display_data",
          "data": {
            "image/png": "[encoded data removed]",
            "text/plain": [
              "<Figure size 432x288 with 1 Axes>"
            ]
          },
          "metadata": {
            "tags": []
          }
        },
        {
          "output_type": "stream",
          "text": [
            "Actual: tensor(4)\n",
            "Predicted: 4\n"
          ],
          "name": "stdout"
        },
        {
          "output_type": "display_data",
          "data": {
            "image/png": "[encoded data removed]",
            "text/plain": [
              "<Figure size 432x288 with 1 Axes>"
            ]
          },
          "metadata": {
            "tags": []
          }
        },
        {
          "output_type": "stream",
          "text": [
            "Actual: tensor(8)\n",
            "Predicted: 5\n"
          ],
          "name": "stdout"
        },
        {
          "output_type": "display_data",
          "data": {
            "image/png": "[encoded data removed]",
            "text/plain": [
              "<Figure size 432x288 with 1 Axes>"
            ]
          },
          "metadata": {
            "tags": []
          }
        },
        {
          "output_type": "stream",
          "text": [
            "Actual: tensor(0)\n",
            "Predicted: 0\n"
          ],
          "name": "stdout"
        }
      ]
    },
    {
      "cell_type": "code",
      "metadata": {
        "id": "qfUjHPkzohfE",
        "colab_type": "code",
        "colab": {}
      },
      "source": [
        ""
      ],
      "execution_count": 0,
      "outputs": []
    }
  ]
}